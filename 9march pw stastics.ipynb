{
 "cells": [
  {
   "attachments": {},
   "cell_type": "markdown",
   "metadata": {},
   "source": [
    "Q1: What are the Probability Mass Function (PMF) and Probability Density Function (PDF)? Explain with\n",
    "an example."
   ]
  },
  {
   "attachments": {},
   "cell_type": "markdown",
   "metadata": {},
   "source": [
    "PMF:-1. Solution ranges between numbers of discrete random variables\n",
    "    2. Uses discrete random variables\t\n",
    "\n",
    "    Let X be a discrete random variable of a function, then the probability mass function of \n",
    "     random variable X is given by Px (x) = P( X=x ), For all x belongs to the range of X\n",
    "\n",
    "PDF:- The solution is in a range of continuous random variables\n",
    "    Uses continuous random variables\n",
    "\t"
   ]
  },
  {
   "attachments": {},
   "cell_type": "markdown",
   "metadata": {},
   "source": [
    "Q2: What is Cumulative Density Function (CDF)? Explain with an example. Why CDF is used"
   ]
  },
  {
   "attachments": {},
   "cell_type": "markdown",
   "metadata": {},
   "source": [
    "Ans:- CDF finds the cumulative probability for the given value. To determine the probability of a random variable,\n",
    "       it is used and also to compare the probability between values under certain conditions.\n",
    "       Where X is the probability that takes a value less than or equal to x and that lies in the \n",
    "       semi-closed interval (a,b], where a < b.\n",
    "       eg:-the probability of getting an outcome by rolling a six-sided die is given as:\n",
    "           Probability of getting 1 = P(X≤ 1 ) = 1 / 6 "
   ]
  },
  {
   "attachments": {},
   "cell_type": "markdown",
   "metadata": {},
   "source": [
    "Q3: What are some examples of situations where the normal distribution might be used as a model?\n",
    "Explain how the parameters of the normal distribution relate to the shape of the distribution.\n"
   ]
  },
  {
   "attachments": {},
   "cell_type": "markdown",
   "metadata": {},
   "source": [
    "there are some example and some situation of  using normal distribution \n",
    "     1.  Birthweight of Babies.\n",
    "     2. Blood Pressure\n",
    "     3. Height of Males.\n",
    "The two main parameters of a (normal) distribution are the mean and standard deviation\n",
    "The parameters determine the shape and probabilities of the distribution. The shape of \n",
    "the distribution changes as the parameter values change     \n"
   ]
  },
  {
   "attachments": {},
   "cell_type": "markdown",
   "metadata": {},
   "source": [
    "Q4: Explain the importance of Normal Distribution. Give a few real-life examples of Normal\n",
    "Distribution."
   ]
  },
  {
   "attachments": {},
   "cell_type": "markdown",
   "metadata": {},
   "source": [
    "an importance of normal distribution\n",
    "In case the sample size is large the normal distribution serves as good approximation.\n",
    "Due to its mathematical properties it is more popular and easy to calculate.\n",
    "It is used in statistical quality control in setting up of control limits.\n",
    "\n",
    "an real life example\n",
    "The height of people is an example of normal distribution.\n",
    "Shoe Sizes\n",
    "Height of Males\n",
    "Average NFL Player Retirement Age"
   ]
  },
  {
   "attachments": {},
   "cell_type": "markdown",
   "metadata": {},
   "source": [
    "Q5: What is Bernaulli Distribution? Give an Example. What is the difference between Bernoulli\n",
    "Distribution and Binomial Distribution?\n"
   ]
  },
  {
   "attachments": {},
   "cell_type": "markdown",
   "metadata": {},
   "source": [
    "Bernoulli distribution is a discrete probability distribution. It describes the probability of achieving a “success” or “failure”\n",
    "A Bernoulli trial is an event that has only two possible outcomes (success or failure). \n",
    "For example, will a coin land on heads (success) or tails (failure)\n",
    "\n",
    "difference between\n",
    "The Bernoulli distribution represents the success or failure of a single Bernoulli trial. The Binomial Distribution represents the number of successes and failures in n independent Bernoulli trials for some given value of n."
   ]
  },
  {
   "attachments": {},
   "cell_type": "markdown",
   "metadata": {},
   "source": [
    "Q6. Consider a dataset with a mean of 50 and a standard deviation of 10. If we assume that the dataset\n",
    "is normally distributed, what is the probability that a randomly selected observation will be greater\n",
    "than 60? Use the appropriate formula and show your calculations."
   ]
  },
  {
   "attachments": {},
   "cell_type": "markdown",
   "metadata": {},
   "source": [
    "from the formula \n",
    "                z = (x - μ) / σ\n",
    "                Where:\n",
    "\n",
    "x is the value we want to find the probability for (in this case, 60),\n",
    "μ is the mean of the dataset (50),\n",
    "σ is the standard deviation of the dataset (10).\n",
    "First, let's calculate the z-score:\n",
    "\n",
    "z = (60 - 50) / 10\n",
    "= 10 / 10\n",
    "= 1\n",
    " the z-score using a standard normal distribution table or a statistical calculator.\n",
    "\n",
    "The probability corresponding to a z-score of 1 can be found to be approximately 0.8413"
   ]
  },
  {
   "attachments": {},
   "cell_type": "markdown",
   "metadata": {},
   "source": [
    "Q7: Explain uniform Distribution with an example.\n"
   ]
  },
  {
   "attachments": {},
   "cell_type": "markdown",
   "metadata": {},
   "source": [
    "The uniform distribution is a probability distribution in which all outcomes within a given range\n",
    " are equally likely. In other words, every value in the range has an equal probability of occurring\n",
    " example:-\n",
    "         let's consider an example of rolling a fair six-sided die. In this case, the possible outcomes are \n",
    "         the numbers 1, 2, 3, 4, 5, and 6. Each outcome has an equal chance of occurring since the die is fair.\n",
    "         "
   ]
  },
  {
   "attachments": {},
   "cell_type": "markdown",
   "metadata": {},
   "source": [
    "Q8: What is the z score? State the importance of the z score.\n"
   ]
  },
  {
   "attachments": {},
   "cell_type": "markdown",
   "metadata": {},
   "source": [
    "The z-score  the standard score, is a statistical measure that indicates how many standard deviations a particular data point or observation is away from the mean of a distribution. It is calculated using the formula:\n",
    "\n",
    "z = (x - μ) / σ\n",
    "Where:\n",
    "z is the z-score,\n",
    "x is the data point or observation,\n",
    "μ is the mean of the distribution,\n",
    "σ is the standard deviation of the distribution.\n",
    "\n",
    "importance state\n",
    "1. Standardization:\n",
    "2. Probability Calculation\n",
    "3. Relative Position\n",
    "4. Outlier Detection"
   ]
  },
  {
   "attachments": {},
   "cell_type": "markdown",
   "metadata": {},
   "source": [
    "Q9: What is Central Limit Theorem? State the significance of the Central Limit Theorem.\n"
   ]
  },
  {
   "attachments": {},
   "cell_type": "markdown",
   "metadata": {},
   "source": [
    "The Central Limit Theorem (CLT) is a fundamental concept in statistics \n",
    " the sample means approaches a normal distribution as the sample size increases,\n",
    "  regardless of the shape of the population distribution.\n",
    "\n",
    "significance of the Central Limit Theorem \n",
    "\n",
    "1. Sample Size Determination\n",
    "2. Real-world Applications\n",
    "3. Inference and Hypothesis Testing:"
   ]
  },
  {
   "attachments": {},
   "cell_type": "markdown",
   "metadata": {},
   "source": [
    "state  the assumptions of the Central Limit Theorem."
   ]
  },
  {
   "attachments": {},
   "cell_type": "markdown",
   "metadata": {},
   "source": [
    "The Central Limit Theorem (CLT) is a fundamental theorem in statistics, but it relies on certain \n",
    "assumptions to hold true. The assumptions of the Central Limit Theorem are as follows:\n",
    "\n",
    "1. ndependence:\n",
    "2. Sample Size\n",
    "3. Finite Variance\n",
    "4. Same Distribution\n",
    "\n"
   ]
  }
 ],
 "metadata": {
  "language_info": {
   "name": "python"
  },
  "orig_nbformat": 4
 },
 "nbformat": 4,
 "nbformat_minor": 2
}
